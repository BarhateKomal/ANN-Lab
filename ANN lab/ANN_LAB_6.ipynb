{
 "cells": [
  {
   "cell_type": "code",
   "execution_count": 1,
   "id": "1ba32ffa",
   "metadata": {},
   "outputs": [],
   "source": [
    "# Implement Artificial Neural Network training process in Python by using Forward Propagation,\n",
    "# Back Propagation."
   ]
  },
  {
   "cell_type": "code",
   "execution_count": 5,
   "id": "cdcceb66",
   "metadata": {},
   "outputs": [
    {
     "name": "stdout",
     "output_type": "stream",
     "text": [
      "Input: [0 0] Output: [0.06749893]\n",
      "Input: [0 1] Output: [0.93720644]\n",
      "Input: [1 0] Output: [0.9370137]\n",
      "Input: [1 1] Output: [0.0682523]\n"
     ]
    }
   ],
   "source": [
    "import numpy as np\n",
    "\n",
    "# Sigmoid activation function and its derivative\n",
    "def sigmoid(x):\n",
    "    return 1 / (1 + np.exp(-x))\n",
    "\n",
    "def sigmoid_derivative(x):\n",
    "    return x * (1 - x)\n",
    "\n",
    "# Forward propagation\n",
    "def forward_propagation(inputs, weights, biases):\n",
    "    hidden_layer_input = np.sum(weights[0] * inputs, axis=1) + biases[0]\n",
    "    hidden_layer_output = sigmoid(hidden_layer_input)\n",
    "    output_layer_input = np.sum(weights[1] * hidden_layer_output) + biases[1]\n",
    "    output = sigmoid(output_layer_input)\n",
    "    return hidden_layer_output, output\n",
    "\n",
    "# Backward propagation\n",
    "def backward_propagation(inputs, hidden_output, output, target, weights, biases, learning_rate):\n",
    "    # Calculate error and deltas for output layer\n",
    "    output_error = target - output\n",
    "    output_delta = output_error * sigmoid_derivative(output)\n",
    "\n",
    "    # Calculate error and deltas for hidden layer\n",
    "    hidden_error = np.dot(weights[1].T, output_delta)\n",
    "    hidden_delta = hidden_error * sigmoid_derivative(hidden_output)\n",
    "\n",
    "    # Update weights and biases\n",
    "    weights[1] += learning_rate * np.outer(output_delta, hidden_output)\n",
    "    biases[1] += learning_rate * output_delta\n",
    "    weights[0] += learning_rate * np.outer(hidden_delta, inputs)\n",
    "    biases[0] += learning_rate * hidden_delta\n",
    "\n",
    "# Training function\n",
    "def train_network(inputs, targets, weights, biases, learning_rate, epochs):\n",
    "    for _ in range(epochs):\n",
    "        for input_row, target_row in zip(inputs, targets):\n",
    "            hidden_output, output = forward_propagation(input_row, weights, biases)\n",
    "            backward_propagation(input_row, hidden_output, output, target_row, weights, biases, learning_rate)\n",
    "\n",
    "# Example inputs and targets\n",
    "inputs = np.array([[0, 0], [0, 1], [1, 0], [1, 1]])\n",
    "targets = np.array([[0], [1], [1], [0]])\n",
    "\n",
    "# Initialize weights and biases randomly\n",
    "np.random.seed(1)\n",
    "weights = [np.random.rand(2, 2), np.random.rand(1, 2)]\n",
    "biases = [np.random.rand(2), np.random.rand(1)]\n",
    "\n",
    "# Set learning rate and epochs\n",
    "learning_rate = 0.1\n",
    "epochs = 10000\n",
    "\n",
    "# Train the network\n",
    "train_network(inputs, targets, weights, biases, learning_rate, epochs)\n",
    "\n",
    "# Test the trained network\n",
    "for input_row in inputs:\n",
    "    hidden_output, output = forward_propagation(input_row, weights, biases)\n",
    "    print(\"Input:\", input_row, \"Output:\", output)\n"
   ]
  },
  {
   "cell_type": "code",
   "execution_count": null,
   "id": "aca36265",
   "metadata": {},
   "outputs": [],
   "source": []
  }
 ],
 "metadata": {
  "kernelspec": {
   "display_name": "Python 3 (ipykernel)",
   "language": "python",
   "name": "python3"
  },
  "language_info": {
   "codemirror_mode": {
    "name": "ipython",
    "version": 3
   },
   "file_extension": ".py",
   "mimetype": "text/x-python",
   "name": "python",
   "nbconvert_exporter": "python",
   "pygments_lexer": "ipython3",
   "version": "3.9.7"
  }
 },
 "nbformat": 4,
 "nbformat_minor": 5
}
