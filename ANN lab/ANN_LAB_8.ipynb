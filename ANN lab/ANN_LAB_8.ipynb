{
 "cells": [
  {
   "cell_type": "code",
   "execution_count": 1,
   "id": "27193caf",
   "metadata": {},
   "outputs": [],
   "source": [
    "# Write a python program to design a Hopfield Network which stores 4 vectors "
   ]
  },
  {
   "cell_type": "markdown",
   "id": "61c43931",
   "metadata": {},
   "source": [
    "# Code 1"
   ]
  },
  {
   "cell_type": "code",
   "execution_count": 2,
   "id": "0a734ece",
   "metadata": {},
   "outputs": [
    {
     "name": "stdout",
     "output_type": "stream",
     "text": [
      "Recalled pattern: [ 1. -1.  1. -1.]\n"
     ]
    }
   ],
   "source": [
    "import numpy as np\n",
    "\n",
    "def train_hopfield(patterns):\n",
    "    num_neurons = len(patterns[0])\n",
    "    weights = np.zeros((num_neurons, num_neurons))\n",
    "\n",
    "    for pattern in patterns:\n",
    "        pattern = np.array(pattern)\n",
    "        pattern = pattern.reshape(-1, 1)\n",
    "        weights += np.dot(pattern, pattern.T)\n",
    "\n",
    "    np.fill_diagonal(weights, 0)\n",
    "    weights /= len(patterns)\n",
    "\n",
    "    return weights\n",
    "\n",
    "def recall_hopfield(input_pattern, weights, max_iterations=100):\n",
    "    input_pattern = np.array(input_pattern).reshape(-1, 1)\n",
    "    for _ in range(max_iterations):\n",
    "        output_pattern = np.sign(np.dot(weights, input_pattern))\n",
    "        if np.array_equal(output_pattern, input_pattern):\n",
    "            return output_pattern.flatten()\n",
    "        input_pattern = output_pattern\n",
    "    return \"Max iterations reached without convergence.\"\n",
    "\n",
    "# Example usage:\n",
    "if __name__ == \"__main__\":\n",
    "    # Define patterns to be stored\n",
    "    patterns = [\n",
    "        [1, -1, 1, -1],\n",
    "        [-1, 1, -1, 1],\n",
    "        [1, 1, -1, -1],\n",
    "        [-1, -1, 1, 1]\n",
    "    ]\n",
    "\n",
    "    # Train the Hopfield network with the patterns\n",
    "    weights = train_hopfield(patterns)\n",
    "\n",
    "    # Test recalling a pattern\n",
    "    test_pattern = [1, -1, 1, -1]\n",
    "    recalled_pattern = recall_hopfield(test_pattern, weights)\n",
    "    print(\"Recalled pattern:\", recalled_pattern)\n"
   ]
  },
  {
   "cell_type": "markdown",
   "id": "4ecb6cdf",
   "metadata": {},
   "source": [
    "# Code 2\n"
   ]
  },
  {
   "cell_type": "code",
   "execution_count": 1,
   "id": "04f0d084",
   "metadata": {},
   "outputs": [
    {
     "name": "stdout",
     "output_type": "stream",
     "text": [
      "Original Pattern: [1, -1, 1, -1]\n",
      "Recalled Pattern: [ 1. -1.  1. -1.]\n",
      "\n",
      "Original Pattern: [-1, -1, -1, 1]\n",
      "Recalled Pattern: [-1. -1. -1.  1.]\n",
      "\n",
      "Original Pattern: [1, -1, -1, 1]\n",
      "Recalled Pattern: [ 1. -1. -1.  1.]\n",
      "\n"
     ]
    }
   ],
   "source": [
    "import numpy as np\n",
    "\n",
    "# Define the Hopfield Network functions\n",
    "\n",
    "def train_hopfield(patterns):\n",
    "    num_neurons = len(patterns[0])\n",
    "    weights = np.zeros((num_neurons, num_neurons))\n",
    "    for pattern in patterns:\n",
    "        pattern = np.array(pattern)\n",
    "        weights += np.outer(pattern, pattern)\n",
    "        np.fill_diagonal(weights, 0)\n",
    "    return weights\n",
    "\n",
    "def recall_hopfield(pattern, weights, max_iterations=100):\n",
    "    pattern = np.array(pattern)\n",
    "    for _ in range(max_iterations):\n",
    "        new_pattern = np.sign(np.dot(weights, pattern))\n",
    "        if np.array_equal(new_pattern, pattern):\n",
    "            return new_pattern\n",
    "        pattern = new_pattern\n",
    "    return pattern\n",
    "\n",
    "# Define the 4 vectors to be stored\n",
    "patterns = [\n",
    "    [1, -1, 1, -1],\n",
    "    [-1, 1, -1, 1],\n",
    "    [1, 1, -1, -1],\n",
    "    [-1, -1, 1, 1]\n",
    "]\n",
    "\n",
    "# Train the Hopfield Network\n",
    "weights = train_hopfield(patterns)\n",
    "\n",
    "# Test recall with noisy patterns\n",
    "test_patterns = [\n",
    "    [1, -1, 1, -1],\n",
    "    [-1, -1, -1, 1],\n",
    "    [1, -1, -1, 1]\n",
    "]\n",
    "\n",
    "for pattern in test_patterns:\n",
    "    recalled_pattern = recall_hopfield(pattern, weights)\n",
    "    print(\"Original Pattern:\", pattern)\n",
    "    print(\"Recalled Pattern:\", recalled_pattern)\n",
    "    print()"
   ]
  }
 ],
 "metadata": {
  "kernelspec": {
   "display_name": "Python 3 (ipykernel)",
   "language": "python",
   "name": "python3"
  },
  "language_info": {
   "codemirror_mode": {
    "name": "ipython",
    "version": 3
   },
   "file_extension": ".py",
   "mimetype": "text/x-python",
   "name": "python",
   "nbconvert_exporter": "python",
   "pygments_lexer": "ipython3",
   "version": "3.9.7"
  }
 },
 "nbformat": 4,
 "nbformat_minor": 5
}
