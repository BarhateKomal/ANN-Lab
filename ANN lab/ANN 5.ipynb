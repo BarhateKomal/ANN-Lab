{
 "cells": [
  {
   "cell_type": "code",
   "execution_count": 1,
   "id": "b92112c1",
   "metadata": {},
   "outputs": [
    {
     "name": "stdout",
     "output_type": "stream",
     "text": [
      "Input x: [ 1 -1 -1 -1]\n",
      "Output y: [ 1 -1]\n"
     ]
    }
   ],
   "source": [
    "# Write a python Program for Bidirectional Associative Memory with two pairs of vectors.\n",
    "import numpy as np\n",
    "X = np.array([[1, 1, 1, -1], [-1, -1, 1, 1]])#input \n",
    "Y = np.array([[1, -1], [-1, 1]])#output\n",
    "W = np.dot(Y.T, X)#T is Transpose, W is Weight\n",
    "def bam(x):\n",
    "    return np.sign(np.dot(W, x))\n",
    "x_test = np.array([1, -1, -1, -1])\n",
    "y_test = bam(x_test)\n",
    "print(\"Input x:\", x_test)\n",
    "print(\"Output y:\", y_test)"
   ]
  },
  {
   "cell_type": "code",
   "execution_count": null,
   "id": "00915c54",
   "metadata": {},
   "outputs": [],
   "source": []
  }
 ],
 "metadata": {
  "kernelspec": {
   "display_name": "Python 3 (ipykernel)",
   "language": "python",
   "name": "python3"
  },
  "language_info": {
   "codemirror_mode": {
    "name": "ipython",
    "version": 3
   },
   "file_extension": ".py",
   "mimetype": "text/x-python",
   "name": "python",
   "nbconvert_exporter": "python",
   "pygments_lexer": "ipython3",
   "version": "3.9.7"
  }
 },
 "nbformat": 4,
 "nbformat_minor": 5
}
