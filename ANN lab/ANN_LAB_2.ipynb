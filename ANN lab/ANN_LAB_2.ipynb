{
 "cells": [
  {
   "cell_type": "code",
   "execution_count": 1,
   "id": "506decb0",
   "metadata": {},
   "outputs": [],
   "source": [
    "# 2. Generate ANDNOT function using McCulloch-Pitts neural net by a python program."
   ]
  },
  {
   "cell_type": "code",
   "execution_count": 1,
   "id": "bad97d56",
   "metadata": {},
   "outputs": [
    {
     "name": "stdout",
     "output_type": "stream",
     "text": [
      "Input table is :\n",
      " [[0 0]\n",
      " [0 1]\n",
      " [1 0]\n",
      " [1 1]]\n",
      "Weights : [ 1 -1]\n"
     ]
    }
   ],
   "source": [
    "import pandas as pd\n",
    "import numpy as np\n",
    "input_table=np.array([\n",
    "    [0,0], # 0  Neuron is Not Avtivated\n",
    "    [0,1], # 0  Neuron is Not Avtivated\n",
    "    [1,0], # 1  Neuron is Avtivated\n",
    "    [1,1]])\n",
    "weights=np.array([1,-1])\n",
    "print('Input table is :\\n',input_table)\n",
    "print('Weights :',weights)"
   ]
  },
  {
   "cell_type": "code",
   "execution_count": 2,
   "id": "240cf1be",
   "metadata": {},
   "outputs": [
    {
     "name": "stdout",
     "output_type": "stream",
     "text": [
      "Dot products  : [ 0 -1  1  0]\n"
     ]
    }
   ],
   "source": [
    "dot_products=np.dot(input_table ,weights)\n",
    "print('Dot products  :',dot_products)"
   ]
  },
  {
   "cell_type": "code",
   "execution_count": 3,
   "id": "27d98dd5",
   "metadata": {},
   "outputs": [
    {
     "name": "stdout",
     "output_type": "stream",
     "text": [
      "activation : 0\n",
      "activation : 0\n",
      "activation : 1\n",
      "activation : 0\n"
     ]
    }
   ],
   "source": [
    "def linear_threshold(dot,T):\n",
    "    if dot>=T:\n",
    "        return 1\n",
    "    else:\n",
    "        return 0\n",
    "T=1\n",
    "for i in range(0,4):\n",
    "    activation=linear_threshold(dot_products[i],T)\n",
    "    print('activation :',activation)"
   ]
  }
 ],
 "metadata": {
  "kernelspec": {
   "display_name": "Python 3 (ipykernel)",
   "language": "python",
   "name": "python3"
  },
  "language_info": {
   "codemirror_mode": {
    "name": "ipython",
    "version": 3
   },
   "file_extension": ".py",
   "mimetype": "text/x-python",
   "name": "python",
   "nbconvert_exporter": "python",
   "pygments_lexer": "ipython3",
   "version": "3.9.7"
  }
 },
 "nbformat": 4,
 "nbformat_minor": 5
}
