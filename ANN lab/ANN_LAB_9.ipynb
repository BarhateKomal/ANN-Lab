{
 "cells": [
  {
   "cell_type": "code",
   "execution_count": 1,
   "id": "a3e3f8ae",
   "metadata": {},
   "outputs": [],
   "source": [
    "'''\n",
    "Aim: How to Train a Neural Network with TensorFlow/Pytorch and evaluation of logistic regression \n",
    "using Tensorflow\n",
    "'''\n",
    "None"
   ]
  },
  {
   "cell_type": "code",
   "execution_count": 2,
   "id": "ec9b2857",
   "metadata": {},
   "outputs": [],
   "source": [
    "import pandas as pd\n",
    "import tensorflow as tf\n",
    "from tensorflow import keras\n",
    "from sklearn.preprocessing import StandardScaler"
   ]
  },
  {
   "cell_type": "code",
   "execution_count": 3,
   "id": "67f788bf",
   "metadata": {},
   "outputs": [
    {
     "data": {
      "text/html": [
       "<div>\n",
       "<style scoped>\n",
       "    .dataframe tbody tr th:only-of-type {\n",
       "        vertical-align: middle;\n",
       "    }\n",
       "\n",
       "    .dataframe tbody tr th {\n",
       "        vertical-align: top;\n",
       "    }\n",
       "\n",
       "    .dataframe thead th {\n",
       "        text-align: right;\n",
       "    }\n",
       "</style>\n",
       "<table border=\"1\" class=\"dataframe\">\n",
       "  <thead>\n",
       "    <tr style=\"text-align: right;\">\n",
       "      <th></th>\n",
       "      <th>Pregnancies</th>\n",
       "      <th>Glucose</th>\n",
       "      <th>BloodPressure</th>\n",
       "      <th>SkinThickness</th>\n",
       "      <th>Insulin</th>\n",
       "      <th>BMI</th>\n",
       "      <th>DiabetesPedigreeFunction</th>\n",
       "      <th>Age</th>\n",
       "      <th>Outcome</th>\n",
       "    </tr>\n",
       "  </thead>\n",
       "  <tbody>\n",
       "    <tr>\n",
       "      <th>0</th>\n",
       "      <td>6</td>\n",
       "      <td>148</td>\n",
       "      <td>72</td>\n",
       "      <td>35</td>\n",
       "      <td>0</td>\n",
       "      <td>33.6</td>\n",
       "      <td>0.627</td>\n",
       "      <td>50</td>\n",
       "      <td>1</td>\n",
       "    </tr>\n",
       "    <tr>\n",
       "      <th>1</th>\n",
       "      <td>1</td>\n",
       "      <td>85</td>\n",
       "      <td>66</td>\n",
       "      <td>29</td>\n",
       "      <td>0</td>\n",
       "      <td>26.6</td>\n",
       "      <td>0.351</td>\n",
       "      <td>31</td>\n",
       "      <td>0</td>\n",
       "    </tr>\n",
       "    <tr>\n",
       "      <th>2</th>\n",
       "      <td>8</td>\n",
       "      <td>183</td>\n",
       "      <td>64</td>\n",
       "      <td>0</td>\n",
       "      <td>0</td>\n",
       "      <td>23.3</td>\n",
       "      <td>0.672</td>\n",
       "      <td>32</td>\n",
       "      <td>1</td>\n",
       "    </tr>\n",
       "    <tr>\n",
       "      <th>3</th>\n",
       "      <td>1</td>\n",
       "      <td>89</td>\n",
       "      <td>66</td>\n",
       "      <td>23</td>\n",
       "      <td>94</td>\n",
       "      <td>28.1</td>\n",
       "      <td>0.167</td>\n",
       "      <td>21</td>\n",
       "      <td>0</td>\n",
       "    </tr>\n",
       "    <tr>\n",
       "      <th>4</th>\n",
       "      <td>0</td>\n",
       "      <td>137</td>\n",
       "      <td>40</td>\n",
       "      <td>35</td>\n",
       "      <td>168</td>\n",
       "      <td>43.1</td>\n",
       "      <td>2.288</td>\n",
       "      <td>33</td>\n",
       "      <td>1</td>\n",
       "    </tr>\n",
       "  </tbody>\n",
       "</table>\n",
       "</div>"
      ],
      "text/plain": [
       "   Pregnancies  Glucose  BloodPressure  SkinThickness  Insulin   BMI  \\\n",
       "0            6      148             72             35        0  33.6   \n",
       "1            1       85             66             29        0  26.6   \n",
       "2            8      183             64              0        0  23.3   \n",
       "3            1       89             66             23       94  28.1   \n",
       "4            0      137             40             35      168  43.1   \n",
       "\n",
       "   DiabetesPedigreeFunction  Age  Outcome  \n",
       "0                     0.627   50        1  \n",
       "1                     0.351   31        0  \n",
       "2                     0.672   32        1  \n",
       "3                     0.167   21        0  \n",
       "4                     2.288   33        1  "
      ]
     },
     "execution_count": 3,
     "metadata": {},
     "output_type": "execute_result"
    }
   ],
   "source": [
    "# Data Collection\n",
    "data = pd.read_csv('diabetes.csv') #pima-indians-diabetes.csv\n",
    "data.head()"
   ]
  },
  {
   "cell_type": "code",
   "execution_count": 4,
   "id": "3267c3eb",
   "metadata": {},
   "outputs": [],
   "source": [
    "# Variable selection\n",
    "x = data.drop('Outcome',axis=1)\n",
    "y = data.Outcome"
   ]
  },
  {
   "cell_type": "code",
   "execution_count": 5,
   "id": "bd934b7f",
   "metadata": {},
   "outputs": [],
   "source": [
    "sc = StandardScaler()\n",
    "x_slaled = sc.fit_transform(x)"
   ]
  },
  {
   "cell_type": "code",
   "execution_count": 6,
   "id": "8a264dba",
   "metadata": {},
   "outputs": [],
   "source": [
    "# Model Building\n",
    "logistic_model = tf.keras.Sequential([\n",
    "    tf.keras.layers.Dense(1,input_shape=(8,),activation='sigmoid')\n",
    "    \n",
    "])\n",
    "logistic_model.compile(\n",
    "    loss = 'binary_crossentropy', \n",
    "    metrics = ['accuracy'],\n",
    "    optimizer = 'adam' \n",
    ")"
   ]
  },
  {
   "cell_type": "code",
   "execution_count": 7,
   "id": "e35a0c2a",
   "metadata": {},
   "outputs": [
    {
     "name": "stdout",
     "output_type": "stream",
     "text": [
      "Epoch 1/50\n",
      "24/24 [==============================] - 1s 2ms/step - loss: 1.0347 - accuracy: 0.4062\n",
      "Epoch 2/50\n",
      "24/24 [==============================] - 0s 2ms/step - loss: 1.0053 - accuracy: 0.4206\n",
      "Epoch 3/50\n",
      "24/24 [==============================] - 0s 2ms/step - loss: 0.9779 - accuracy: 0.4362\n",
      "Epoch 4/50\n",
      "24/24 [==============================] - 0s 2ms/step - loss: 0.9505 - accuracy: 0.4414\n",
      "Epoch 5/50\n",
      "24/24 [==============================] - 0s 2ms/step - loss: 0.9247 - accuracy: 0.4531\n",
      "Epoch 6/50\n",
      "24/24 [==============================] - 0s 2ms/step - loss: 0.8998 - accuracy: 0.4674\n",
      "Epoch 7/50\n",
      "24/24 [==============================] - 0s 2ms/step - loss: 0.8756 - accuracy: 0.4766\n",
      "Epoch 8/50\n",
      "24/24 [==============================] - 0s 2ms/step - loss: 0.8533 - accuracy: 0.4922\n",
      "Epoch 9/50\n",
      "24/24 [==============================] - 0s 2ms/step - loss: 0.8314 - accuracy: 0.5065\n",
      "Epoch 10/50\n",
      "24/24 [==============================] - 0s 2ms/step - loss: 0.8107 - accuracy: 0.5182\n",
      "Epoch 11/50\n",
      "24/24 [==============================] - 0s 2ms/step - loss: 0.7908 - accuracy: 0.5299\n",
      "Epoch 12/50\n",
      "24/24 [==============================] - 0s 1ms/step - loss: 0.7724 - accuracy: 0.5443\n",
      "Epoch 13/50\n",
      "24/24 [==============================] - 0s 2ms/step - loss: 0.7544 - accuracy: 0.5573\n",
      "Epoch 14/50\n",
      "24/24 [==============================] - 0s 1ms/step - loss: 0.7379 - accuracy: 0.5625\n",
      "Epoch 15/50\n",
      "24/24 [==============================] - 0s 2ms/step - loss: 0.7224 - accuracy: 0.5755\n",
      "Epoch 16/50\n",
      "24/24 [==============================] - 0s 2ms/step - loss: 0.7073 - accuracy: 0.6016\n",
      "Epoch 17/50\n",
      "24/24 [==============================] - 0s 2ms/step - loss: 0.6934 - accuracy: 0.6146\n",
      "Epoch 18/50\n",
      "24/24 [==============================] - 0s 1ms/step - loss: 0.6805 - accuracy: 0.6315\n",
      "Epoch 19/50\n",
      "24/24 [==============================] - 0s 2ms/step - loss: 0.6678 - accuracy: 0.6445\n",
      "Epoch 20/50\n",
      "24/24 [==============================] - 0s 2ms/step - loss: 0.6564 - accuracy: 0.6576\n",
      "Epoch 21/50\n",
      "24/24 [==============================] - 0s 2ms/step - loss: 0.6453 - accuracy: 0.6654\n",
      "Epoch 22/50\n",
      "24/24 [==============================] - 0s 2ms/step - loss: 0.6354 - accuracy: 0.6784\n",
      "Epoch 23/50\n",
      "24/24 [==============================] - 0s 2ms/step - loss: 0.6257 - accuracy: 0.6797\n",
      "Epoch 24/50\n",
      "24/24 [==============================] - 0s 2ms/step - loss: 0.6168 - accuracy: 0.6875\n",
      "Epoch 25/50\n",
      "24/24 [==============================] - 0s 2ms/step - loss: 0.6085 - accuracy: 0.6953\n",
      "Epoch 26/50\n",
      "24/24 [==============================] - 0s 2ms/step - loss: 0.6006 - accuracy: 0.7070\n",
      "Epoch 27/50\n",
      "24/24 [==============================] - 0s 2ms/step - loss: 0.5932 - accuracy: 0.7070\n",
      "Epoch 28/50\n",
      "24/24 [==============================] - 0s 2ms/step - loss: 0.5865 - accuracy: 0.7096\n",
      "Epoch 29/50\n",
      "24/24 [==============================] - 0s 2ms/step - loss: 0.5801 - accuracy: 0.7135\n",
      "Epoch 30/50\n",
      "24/24 [==============================] - 0s 2ms/step - loss: 0.5740 - accuracy: 0.7201\n",
      "Epoch 31/50\n",
      "24/24 [==============================] - 0s 2ms/step - loss: 0.5685 - accuracy: 0.7240\n",
      "Epoch 32/50\n",
      "24/24 [==============================] - 0s 2ms/step - loss: 0.5631 - accuracy: 0.7266\n",
      "Epoch 33/50\n",
      "24/24 [==============================] - 0s 2ms/step - loss: 0.5583 - accuracy: 0.7279\n",
      "Epoch 34/50\n",
      "24/24 [==============================] - 0s 2ms/step - loss: 0.5536 - accuracy: 0.7292\n",
      "Epoch 35/50\n",
      "24/24 [==============================] - 0s 1ms/step - loss: 0.5493 - accuracy: 0.7292\n",
      "Epoch 36/50\n",
      "24/24 [==============================] - 0s 2ms/step - loss: 0.5454 - accuracy: 0.7279\n",
      "Epoch 37/50\n",
      "24/24 [==============================] - 0s 974us/step - loss: 0.5415 - accuracy: 0.7305\n",
      "Epoch 38/50\n",
      "24/24 [==============================] - 0s 2ms/step - loss: 0.5379 - accuracy: 0.7292\n",
      "Epoch 39/50\n",
      "24/24 [==============================] - 0s 2ms/step - loss: 0.5346 - accuracy: 0.7305\n",
      "Epoch 40/50\n",
      "24/24 [==============================] - 0s 2ms/step - loss: 0.5315 - accuracy: 0.7331\n",
      "Epoch 41/50\n",
      "24/24 [==============================] - 0s 2ms/step - loss: 0.5285 - accuracy: 0.7318\n",
      "Epoch 42/50\n",
      "24/24 [==============================] - 0s 1ms/step - loss: 0.5257 - accuracy: 0.7396\n",
      "Epoch 43/50\n",
      "24/24 [==============================] - 0s 2ms/step - loss: 0.5231 - accuracy: 0.7409\n",
      "Epoch 44/50\n",
      "24/24 [==============================] - 0s 2ms/step - loss: 0.5206 - accuracy: 0.7435\n",
      "Epoch 45/50\n",
      "24/24 [==============================] - 0s 1ms/step - loss: 0.5183 - accuracy: 0.7474\n",
      "Epoch 46/50\n",
      "24/24 [==============================] - 0s 2ms/step - loss: 0.5161 - accuracy: 0.7500\n",
      "Epoch 47/50\n",
      "24/24 [==============================] - 0s 1ms/step - loss: 0.5140 - accuracy: 0.7526\n",
      "Epoch 48/50\n",
      "24/24 [==============================] - 0s 2ms/step - loss: 0.5120 - accuracy: 0.7526\n",
      "Epoch 49/50\n",
      "24/24 [==============================] - 0s 2ms/step - loss: 0.5103 - accuracy: 0.7539\n",
      "Epoch 50/50\n",
      "24/24 [==============================] - 0s 2ms/step - loss: 0.5085 - accuracy: 0.7552\n"
     ]
    },
    {
     "data": {
      "text/plain": [
       "<keras.callbacks.History at 0x1e7daa4dbe0>"
      ]
     },
     "execution_count": 7,
     "metadata": {},
     "output_type": "execute_result"
    }
   ],
   "source": [
    "# Train a Neural Network with TensorFlow\n",
    "logistic_model.fit(x_slaled,y,epochs = 50)"
   ]
  },
  {
   "cell_type": "code",
   "execution_count": 8,
   "id": "658889d5",
   "metadata": {},
   "outputs": [
    {
     "data": {
      "text/plain": [
       "array([1, 0, 1, 0, 1], dtype=int64)"
      ]
     },
     "execution_count": 8,
     "metadata": {},
     "output_type": "execute_result"
    }
   ],
   "source": [
    "# Checking the output for 1st 5 points\n",
    "y.head(5).values"
   ]
  },
  {
   "cell_type": "code",
   "execution_count": 9,
   "id": "027bd2e5",
   "metadata": {},
   "outputs": [
    {
     "name": "stdout",
     "output_type": "stream",
     "text": [
      "24/24 [==============================] - 0s 1ms/step\n"
     ]
    }
   ],
   "source": [
    "y_pred = logistic_model.predict(x_slaled)"
   ]
  },
  {
   "cell_type": "code",
   "execution_count": 10,
   "id": "ab7e0c95",
   "metadata": {},
   "outputs": [
    {
     "data": {
      "text/plain": [
       "array([[0.72909945],\n",
       "       [0.13217817],\n",
       "       [0.8382238 ],\n",
       "       [0.10712887],\n",
       "       [0.7496243 ]], dtype=float32)"
      ]
     },
     "execution_count": 10,
     "metadata": {},
     "output_type": "execute_result"
    }
   ],
   "source": [
    "y_pred[:5]"
   ]
  },
  {
   "cell_type": "code",
   "execution_count": 11,
   "id": "c48ac252",
   "metadata": {},
   "outputs": [
    {
     "name": "stdout",
     "output_type": "stream",
     "text": [
      "24/24 [==============================] - 0s 2ms/step - loss: 0.5074 - accuracy: 0.7565\n",
      "Accuracy of the model is : 75.65104365348816 %\n"
     ]
    }
   ],
   "source": [
    "# Evaluation of logistic regression using Tensorflow\n",
    "evalu = logistic_model.evaluate(x_slaled,y)\n",
    "print('Accuracy of the model is :',evalu[1]*100,'%')"
   ]
  },
  {
   "cell_type": "code",
   "execution_count": 12,
   "id": "e8693920",
   "metadata": {
    "scrolled": true
   },
   "outputs": [
    {
     "name": "stdout",
     "output_type": "stream",
     "text": [
      "1/1 [==============================] - 0s 69ms/step\n",
      "Class : 1\n"
     ]
    }
   ],
   "source": [
    "# Testing the model\n",
    "user_input = [[6,148,72,35,0,33.6,0.627,50]]\n",
    "user_input_slaled = sc.fit_transform(user_input)\n",
    "prediction = logistic_model.predict(user_input_slaled)\n",
    "if prediction[0][0]>0.30:\n",
    "    print('Class :',1)\n",
    "else:\n",
    "    print('Class :',0)"
   ]
  }
 ],
 "metadata": {
  "kernelspec": {
   "display_name": "Python 3 (ipykernel)",
   "language": "python",
   "name": "python3"
  },
  "language_info": {
   "codemirror_mode": {
    "name": "ipython",
    "version": 3
   },
   "file_extension": ".py",
   "mimetype": "text/x-python",
   "name": "python",
   "nbconvert_exporter": "python",
   "pygments_lexer": "ipython3",
   "version": "3.9.7"
  }
 },
 "nbformat": 4,
 "nbformat_minor": 5
}
