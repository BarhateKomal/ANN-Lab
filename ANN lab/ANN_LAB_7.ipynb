{
 "cells": [
  {
   "cell_type": "code",
   "execution_count": null,
   "id": "eabacb68",
   "metadata": {},
   "outputs": [],
   "source": [
    "# Write a python program to show back propagation network for XOR function with Binary Input \n",
    "# and Output."
   ]
  },
  {
   "cell_type": "markdown",
   "id": "921eb918",
   "metadata": {},
   "source": [
    "# Code 1"
   ]
  },
  {
   "cell_type": "code",
   "execution_count": 1,
   "id": "12c8f335",
   "metadata": {},
   "outputs": [
    {
     "name": "stdout",
     "output_type": "stream",
     "text": [
      "[0.9897704]\n"
     ]
    }
   ],
   "source": [
    "from joblib.numpy_pickle_utils import xrange\n",
    "from numpy import *\n",
    "\n",
    "class NeuralNet(object):\n",
    "    def __init__(self):\n",
    "        random.seed(1)\n",
    "        self.synaptic_weights = 2*random.random((3,1))-1\n",
    "\n",
    "    def __sigmoid(self,x):\n",
    "        return 1/(1+exp(-x))\n",
    "\n",
    "    def __sigmoid_derivative(self,x):\n",
    "        return x*(1-x)\n",
    "\n",
    "    def train(self,inputs,outputs,training_iterations):\n",
    "        for iteration in xrange(training_iterations):\n",
    "            output=self.learn(inputs)\n",
    "            error = outputs-output\n",
    "            factor = dot(inputs.T,error*self.__sigmoid_derivative(output))\n",
    "            self.synaptic_weights+=factor \n",
    "\n",
    "    def learn(self,inputs):\n",
    "        return self.__sigmoid(dot(inputs,self.synaptic_weights))\n",
    "\n",
    "\n",
    "if __name__==\"__main__\":\n",
    "    neural_network = NeuralNet()\n",
    "\n",
    "    inputs=array([[0,1,1],[1,0,0],[1,0,1]])\n",
    "    outputs = array([[1,0,1]]).T\n",
    "\n",
    "    neural_network.train(inputs,outputs,10000)\n",
    "\n",
    "    print(neural_network.learn(array([1,0,1])))"
   ]
  },
  {
   "cell_type": "markdown",
   "id": "37d57aec",
   "metadata": {},
   "source": [
    "# Code 2"
   ]
  },
  {
   "cell_type": "code",
   "execution_count": 8,
   "id": "95405f8d",
   "metadata": {},
   "outputs": [
    {
     "name": "stdout",
     "output_type": "stream",
     "text": [
      "Output after training:\n",
      "[[0.11600846]\n",
      " [0.74955024]\n",
      " [0.7523009 ]\n",
      " [0.57995908]]\n"
     ]
    }
   ],
   "source": [
    "import numpy as np\n",
    "\n",
    "# Sigmoid activation function\n",
    "def sigmoid(x):\n",
    "    return 1 / (1 + np.exp(-x))\n",
    "\n",
    "# Derivative of the sigmoid function\n",
    "def sigmoid_derivative(x):\n",
    "    return x * (1 - x)\n",
    "\n",
    "# Input dataset\n",
    "X = np.array([[0, 0],\n",
    "              [0, 1],\n",
    "              [1, 0],\n",
    "              [1, 1]])\n",
    "\n",
    "# Output dataset\n",
    "y = np.array([[0],\n",
    "              [1],\n",
    "              [1],\n",
    "              [0]])\n",
    "\n",
    "# Initialize weights randomly with mean 0\n",
    "np.random.seed(1)\n",
    "input_neurons = 2\n",
    "hidden_neurons = 2\n",
    "output_neurons = 1\n",
    "\n",
    "# Weights connecting input layer to hidden layer\n",
    "weights_input_hidden = np.random.uniform(-1, 1, (input_neurons, hidden_neurons))\n",
    "\n",
    "# Weights connecting hidden layer to output layer\n",
    "weights_hidden_output = np.random.uniform(-1, 1, (hidden_neurons, output_neurons))\n",
    "\n",
    "# Learning rate\n",
    "learning_rate = 0.1\n",
    "\n",
    "# Train the neural network\n",
    "for epoch in range(10000):\n",
    "    # Forward propagation\n",
    "    hidden_layer_input = np.dot(X, weights_input_hidden)\n",
    "    hidden_layer_output = sigmoid(hidden_layer_input)\n",
    "\n",
    "    output_layer_input = np.dot(hidden_layer_output, weights_hidden_output)\n",
    "    output_layer_output = sigmoid(output_layer_input)\n",
    "\n",
    "    # Backpropagation\n",
    "    error = y - output_layer_output\n",
    "    d_output = error * sigmoid_derivative(output_layer_output)\n",
    "\n",
    "    error_hidden_layer = d_output.dot(weights_hidden_output.T)\n",
    "    d_hidden_layer = error_hidden_layer * sigmoid_derivative(hidden_layer_output)\n",
    "\n",
    "    # Update weights\n",
    "    weights_hidden_output += hidden_layer_output.T.dot(d_output) * learning_rate\n",
    "    weights_input_hidden += X.T.dot(d_hidden_layer) * learning_rate\n",
    "\n",
    "# Test the neural network\n",
    "hidden_layer_input = np.dot(X, weights_input_hidden)\n",
    "hidden_layer_output = sigmoid(hidden_layer_input)\n",
    "output_layer_input = np.dot(hidden_layer_output, weights_hidden_output)\n",
    "output_layer_output = sigmoid(output_layer_input)\n",
    "\n",
    "print(\"Output after training:\")\n",
    "print(output_layer_output)\n"
   ]
  }
 ],
 "metadata": {
  "kernelspec": {
   "display_name": "Python 3 (ipykernel)",
   "language": "python",
   "name": "python3"
  },
  "language_info": {
   "codemirror_mode": {
    "name": "ipython",
    "version": 3
   },
   "file_extension": ".py",
   "mimetype": "text/x-python",
   "name": "python",
   "nbconvert_exporter": "python",
   "pygments_lexer": "ipython3",
   "version": "3.9.7"
  }
 },
 "nbformat": 4,
 "nbformat_minor": 5
}
